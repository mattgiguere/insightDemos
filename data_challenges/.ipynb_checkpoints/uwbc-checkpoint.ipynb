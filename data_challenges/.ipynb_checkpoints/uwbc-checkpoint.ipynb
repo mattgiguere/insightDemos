{
 "cells": [
  {
   "cell_type": "markdown",
   "metadata": {},
   "source": [
    "# Breast Cancer Wisconsin\n",
    "\n",
    "Create a model that predicts whether a biopsied breast cell is benign or malignant.\n",
    "\n",
    "Data Set Homepage:\n",
    "https://archive.ics.uci.edu/ml/datasets/Breast+Cancer+Wisconsin+%28Original%29\n",
    "\n",
    "Data were downloaded from the UC Irvine Machine Learning Repository:\n",
    "https://archive.ics.uci.edu/ml/machine-learning-databases/breast-cancer-wisconsin/breast-cancer-wisconsin.data\n",
    "\n",
    "Data description:\n",
    "https://archive.ics.uci.edu/ml/machine-learning-databases/breast-cancer-wisconsin/breast-cancer-wisconsin.names\n",
    "\n"
   ]
  },
  {
   "cell_type": "code",
   "execution_count": 3,
   "metadata": {
    "collapsed": true
   },
   "outputs": [],
   "source": [
    "import numpy as np\n",
    "import pandas as pd\n",
    "from matplotlib import pyplot as plt\n",
    "import matplotlib as mpl"
   ]
  },
  {
   "cell_type": "code",
   "execution_count": 4,
   "metadata": {
    "collapsed": false
   },
   "outputs": [
    {
     "name": "stdout",
     "output_type": "stream",
     "text": [
      "The autoreload extension is already loaded. To reload it, use:\n",
      "  %reload_ext autoreload\n"
     ]
    }
   ],
   "source": [
    "#http://matplotlib.org/users/customizing.html\n",
    "font = {'family' : 'Times',\n",
    "        'weight' : 'normal',\n",
    "        'size'   : 18.}\n",
    "\n",
    "plt.rc('font', **font)  # pass in the font dict as kwargs\n",
    "axes = {'labelsize' : 18.,\n",
    "        'linewidth' : 2.,\n",
    "        'labelweight' : 'bold'}\n",
    "plt.rc('axes', **axes)  # pass in the font dict as kwargs\n",
    "plt.rc('text', usetex=False)\n",
    "#plt.rcdefaults()\n",
    "\n",
    "%matplotlib inline\n",
    "%load_ext autoreload\n",
    "%autoreload 2\n",
    "# %reload_ext autoreload\n",
    "\n",
    "myfigsize = (12.0, 8.0)\n",
    "myfontsize = 10.\n",
    "plt.rcParams['figure.figsize'] = myfigsize"
   ]
  },
  {
   "cell_type": "code",
   "execution_count": null,
   "metadata": {
    "collapsed": true
   },
   "outputs": [],
   "source": []
  }
 ],
 "metadata": {
  "kernelspec": {
   "display_name": "Python 2",
   "language": "python",
   "name": "python2"
  },
  "language_info": {
   "codemirror_mode": {
    "name": "ipython",
    "version": 2
   },
   "file_extension": ".py",
   "mimetype": "text/x-python",
   "name": "python",
   "nbconvert_exporter": "python",
   "pygments_lexer": "ipython2",
   "version": "2.7.10"
  }
 },
 "nbformat": 4,
 "nbformat_minor": 0
}
